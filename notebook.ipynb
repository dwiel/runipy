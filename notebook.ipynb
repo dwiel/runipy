{
 "metadata": {
  "name": "",
  "signature": "sha256:4d244979621570d9e16443e1fb3e9fca980fae4898280213b228ed8c844bf11a"
 },
 "nbformat": 3,
 "nbformat_minor": 0,
 "worksheets": [
  {
   "cells": [
    {
     "cell_type": "code",
     "collapsed": false,
     "input": [
      "%matplotlib inline\n",
      "\n",
      "import datetime\n",
      "import functioncache\n",
      "\n",
      "import numpy as np\n",
      "import pandas as pd\n",
      "import matplotlib.pyplot as plt\n",
      "\n",
      "from plotwatt.util import util\n",
      "from plotwatt.bills import model as bills_model, bill_utils as bu\n",
      "from plotwatt.metrics import savings\n",
      "from plotwatt.metrics.tools import scorefn\n",
      "from plotwatt.metrics.tools.explore import savings as expsav\n",
      "\n",
      "pd.options.display.mpl_style = 'default'\n",
      "\n",
      "print 'hello world'\n",
      "import os\n",
      "os.system('touch /tmp/hello')\n",
      "plt.plot([1,2,3])\n"
     ],
     "language": "python",
     "metadata": {},
     "outputs": [
      {
       "output_type": "stream",
       "stream": "stderr",
       "text": [
       ]
      }
     ],
     "prompt_number": 1
    }
   ],
   "metadata": {}
  }
 ]
}